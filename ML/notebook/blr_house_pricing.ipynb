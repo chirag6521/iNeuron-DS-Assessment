{
 "cells": [
  {
   "cell_type": "code",
   "execution_count": 1,
   "metadata": {},
   "outputs": [
    {
     "data": {
      "text/plain": [
       "'c:\\\\Project\\\\iNeuron-DS-Assessment\\\\ML\\\\notebook'"
      ]
     },
     "execution_count": 1,
     "metadata": {},
     "output_type": "execute_result"
    }
   ],
   "source": [
    "%pwd"
   ]
  },
  {
   "cell_type": "code",
   "execution_count": 5,
   "metadata": {},
   "outputs": [],
   "source": [
    "import os\n",
    "os.chdir(\"../\")"
   ]
  },
  {
   "cell_type": "code",
   "execution_count": 6,
   "metadata": {},
   "outputs": [
    {
     "data": {
      "text/plain": [
       "'c:\\\\Project\\\\iNeuron-DS-Assessment'"
      ]
     },
     "execution_count": 6,
     "metadata": {},
     "output_type": "execute_result"
    }
   ],
   "source": [
    "%pwd"
   ]
  },
  {
   "cell_type": "code",
   "execution_count": 7,
   "metadata": {},
   "outputs": [],
   "source": [
    "import pandas as pd\n",
    "df = pd.read_csv('ML/notebook/data/Bengaluru_House_Data.csv')"
   ]
  },
  {
   "cell_type": "code",
   "execution_count": 8,
   "metadata": {},
   "outputs": [
    {
     "data": {
      "text/html": [
       "<div>\n",
       "<style scoped>\n",
       "    .dataframe tbody tr th:only-of-type {\n",
       "        vertical-align: middle;\n",
       "    }\n",
       "\n",
       "    .dataframe tbody tr th {\n",
       "        vertical-align: top;\n",
       "    }\n",
       "\n",
       "    .dataframe thead th {\n",
       "        text-align: right;\n",
       "    }\n",
       "</style>\n",
       "<table border=\"1\" class=\"dataframe\">\n",
       "  <thead>\n",
       "    <tr style=\"text-align: right;\">\n",
       "      <th></th>\n",
       "      <th>area_type</th>\n",
       "      <th>availability</th>\n",
       "      <th>location</th>\n",
       "      <th>size</th>\n",
       "      <th>society</th>\n",
       "      <th>total_sqft</th>\n",
       "      <th>bath</th>\n",
       "      <th>balcony</th>\n",
       "      <th>price</th>\n",
       "    </tr>\n",
       "  </thead>\n",
       "  <tbody>\n",
       "    <tr>\n",
       "      <th>0</th>\n",
       "      <td>Super built-up  Area</td>\n",
       "      <td>19-Dec</td>\n",
       "      <td>Electronic City Phase II</td>\n",
       "      <td>2 BHK</td>\n",
       "      <td>Coomee</td>\n",
       "      <td>1056</td>\n",
       "      <td>2.0</td>\n",
       "      <td>1.0</td>\n",
       "      <td>39.07</td>\n",
       "    </tr>\n",
       "    <tr>\n",
       "      <th>1</th>\n",
       "      <td>Plot  Area</td>\n",
       "      <td>Ready To Move</td>\n",
       "      <td>Chikka Tirupathi</td>\n",
       "      <td>4 Bedroom</td>\n",
       "      <td>Theanmp</td>\n",
       "      <td>2600</td>\n",
       "      <td>5.0</td>\n",
       "      <td>3.0</td>\n",
       "      <td>120.00</td>\n",
       "    </tr>\n",
       "    <tr>\n",
       "      <th>2</th>\n",
       "      <td>Built-up  Area</td>\n",
       "      <td>Ready To Move</td>\n",
       "      <td>Uttarahalli</td>\n",
       "      <td>3 BHK</td>\n",
       "      <td>NaN</td>\n",
       "      <td>1440</td>\n",
       "      <td>2.0</td>\n",
       "      <td>3.0</td>\n",
       "      <td>62.00</td>\n",
       "    </tr>\n",
       "    <tr>\n",
       "      <th>3</th>\n",
       "      <td>Super built-up  Area</td>\n",
       "      <td>Ready To Move</td>\n",
       "      <td>Lingadheeranahalli</td>\n",
       "      <td>3 BHK</td>\n",
       "      <td>Soiewre</td>\n",
       "      <td>1521</td>\n",
       "      <td>3.0</td>\n",
       "      <td>1.0</td>\n",
       "      <td>95.00</td>\n",
       "    </tr>\n",
       "    <tr>\n",
       "      <th>4</th>\n",
       "      <td>Super built-up  Area</td>\n",
       "      <td>Ready To Move</td>\n",
       "      <td>Kothanur</td>\n",
       "      <td>2 BHK</td>\n",
       "      <td>NaN</td>\n",
       "      <td>1200</td>\n",
       "      <td>2.0</td>\n",
       "      <td>1.0</td>\n",
       "      <td>51.00</td>\n",
       "    </tr>\n",
       "  </tbody>\n",
       "</table>\n",
       "</div>"
      ],
      "text/plain": [
       "              area_type   availability                  location       size  \\\n",
       "0  Super built-up  Area         19-Dec  Electronic City Phase II      2 BHK   \n",
       "1            Plot  Area  Ready To Move          Chikka Tirupathi  4 Bedroom   \n",
       "2        Built-up  Area  Ready To Move               Uttarahalli      3 BHK   \n",
       "3  Super built-up  Area  Ready To Move        Lingadheeranahalli      3 BHK   \n",
       "4  Super built-up  Area  Ready To Move                  Kothanur      2 BHK   \n",
       "\n",
       "   society total_sqft  bath  balcony   price  \n",
       "0  Coomee        1056   2.0      1.0   39.07  \n",
       "1  Theanmp       2600   5.0      3.0  120.00  \n",
       "2      NaN       1440   2.0      3.0   62.00  \n",
       "3  Soiewre       1521   3.0      1.0   95.00  \n",
       "4      NaN       1200   2.0      1.0   51.00  "
      ]
     },
     "execution_count": 8,
     "metadata": {},
     "output_type": "execute_result"
    }
   ],
   "source": [
    "df.head()"
   ]
  },
  {
   "cell_type": "code",
   "execution_count": 10,
   "metadata": {},
   "outputs": [
    {
     "name": "stdout",
     "output_type": "stream",
     "text": [
      "X_train shape: (5996, 4997)\n",
      "X_valid shape: (1500, 4997)\n",
      "y_train shape: (5996,)\n",
      "y_valid shape: (1500,)\n"
     ]
    }
   ],
   "source": [
    "import pandas as pd\n",
    "from sklearn.model_selection import train_test_split\n",
    "\n",
    "# Handle missing values\n",
    "df.dropna(inplace=True)  # Drop rows with missing values, you can use other imputation methods if needed\n",
    "\n",
    "# Convert categorical data to numerical data using one-hot encoding\n",
    "df_encoded = pd.get_dummies(df, drop_first=True)\n",
    "\n",
    "# Split the dataset into features (X) and target variable (y)\n",
    "X = df_encoded.drop('price', axis=1)\n",
    "y = df_encoded['price']\n",
    "\n",
    "# Split the dataset into training and validation sets\n",
    "X_train, X_valid, y_train, y_valid = train_test_split(X, y, test_size=0.2, random_state=99)\n",
    "\n",
    "# Display the shapes of training and validation sets\n",
    "print(\"X_train shape:\", X_train.shape)\n",
    "print(\"X_valid shape:\", X_valid.shape)\n",
    "print(\"y_train shape:\", y_train.shape)\n",
    "print(\"y_valid shape:\", y_valid.shape)\n"
   ]
  },
  {
   "cell_type": "code",
   "execution_count": 11,
   "metadata": {},
   "outputs": [
    {
     "name": "stdout",
     "output_type": "stream",
     "text": [
      "       bath  balcony  area_type_Carpet  Area  area_type_Plot  Area  \\\n",
      "0       2.0      1.0                   False                 False   \n",
      "1       5.0      3.0                   False                  True   \n",
      "3       3.0      1.0                   False                 False   \n",
      "5       2.0      1.0                   False                 False   \n",
      "11      5.0      3.0                   False                  True   \n",
      "...     ...      ...                     ...                   ...   \n",
      "13313   2.0      1.0                   False                 False   \n",
      "13314   3.0      3.0                   False                 False   \n",
      "13315   4.0      0.0                   False                 False   \n",
      "13317   2.0      1.0                   False                 False   \n",
      "13318   4.0      1.0                   False                 False   \n",
      "\n",
      "       area_type_Super built-up  Area  availability_15-Aug  \\\n",
      "0                                True                False   \n",
      "1                               False                False   \n",
      "3                                True                False   \n",
      "5                                True                False   \n",
      "11                              False                False   \n",
      "...                               ...                  ...   \n",
      "13313                            True                False   \n",
      "13314                            True                False   \n",
      "13315                           False                False   \n",
      "13317                           False                False   \n",
      "13318                            True                False   \n",
      "\n",
      "       availability_15-Dec  availability_15-Jun  availability_16-Dec  \\\n",
      "0                    False                False                False   \n",
      "1                    False                False                False   \n",
      "3                    False                False                False   \n",
      "5                    False                False                False   \n",
      "11                   False                False                False   \n",
      "...                    ...                  ...                  ...   \n",
      "13313                False                False                False   \n",
      "13314                False                False                False   \n",
      "13315                False                False                False   \n",
      "13317                False                False                False   \n",
      "13318                False                False                False   \n",
      "\n",
      "       availability_16-Jan  ...  total_sqft_986  total_sqft_987  \\\n",
      "0                    False  ...           False           False   \n",
      "1                    False  ...           False           False   \n",
      "3                    False  ...           False           False   \n",
      "5                    False  ...           False           False   \n",
      "11                   False  ...           False           False   \n",
      "...                    ...  ...             ...             ...   \n",
      "13313                False  ...           False           False   \n",
      "13314                False  ...           False           False   \n",
      "13315                False  ...           False           False   \n",
      "13317                False  ...           False           False   \n",
      "13318                False  ...           False           False   \n",
      "\n",
      "       total_sqft_990  total_sqft_991  total_sqft_992  total_sqft_993  \\\n",
      "0               False           False           False           False   \n",
      "1               False           False           False           False   \n",
      "3               False           False           False           False   \n",
      "5               False           False           False           False   \n",
      "11              False           False           False           False   \n",
      "...               ...             ...             ...             ...   \n",
      "13313           False           False           False           False   \n",
      "13314           False           False           False           False   \n",
      "13315           False           False           False           False   \n",
      "13317           False           False           False           False   \n",
      "13318           False           False           False           False   \n",
      "\n",
      "       total_sqft_994  total_sqft_995  total_sqft_996  total_sqft_999  \n",
      "0               False           False           False           False  \n",
      "1               False           False           False           False  \n",
      "3               False           False           False           False  \n",
      "5               False           False           False           False  \n",
      "11              False           False           False           False  \n",
      "...               ...             ...             ...             ...  \n",
      "13313           False           False           False           False  \n",
      "13314           False           False           False           False  \n",
      "13315           False           False           False           False  \n",
      "13317           False           False           False           False  \n",
      "13318           False           False           False           False  \n",
      "\n",
      "[7496 rows x 4997 columns]\n"
     ]
    }
   ],
   "source": [
    "print(X)"
   ]
  },
  {
   "cell_type": "code",
   "execution_count": 14,
   "metadata": {},
   "outputs": [],
   "source": [
    "from sklearn.svm import SVR"
   ]
  },
  {
   "cell_type": "code",
   "execution_count": 13,
   "metadata": {},
   "outputs": [
    {
     "data": {
      "text/plain": [
       "0.26150610758488835"
      ]
     },
     "execution_count": 13,
     "metadata": {},
     "output_type": "execute_result"
    }
   ],
   "source": [
    "model_svr_default = SVR() # Using the default setting such as kernel as 'rbf'\n",
    "model_svr_default.fit(X_train, y_train)\n",
    "\n",
    "model_svr_default.score(X_valid, y_valid)"
   ]
  },
  {
   "cell_type": "code",
   "execution_count": 15,
   "metadata": {},
   "outputs": [
    {
     "data": {
      "text/plain": [
       "0.38188906488133467"
      ]
     },
     "execution_count": 15,
     "metadata": {},
     "output_type": "execute_result"
    }
   ],
   "source": [
    "model_svr_lr = SVR(kernel = 'linear') \n",
    "model_svr_lr.fit(X_train, y_train)\n",
    "\n",
    "model_svr_lr.score(X_valid, y_valid)"
   ]
  },
  {
   "cell_type": "code",
   "execution_count": 16,
   "metadata": {},
   "outputs": [
    {
     "data": {
      "text/plain": [
       "0.3713004347656488"
      ]
     },
     "execution_count": 16,
     "metadata": {},
     "output_type": "execute_result"
    }
   ],
   "source": [
    "model_svr_pl3d = SVR(kernel = 'poly') \n",
    "model_svr_pl3d.fit(X_train, y_train)\n",
    "\n",
    "model_svr_pl3d.score(X_valid, y_valid)"
   ]
  },
  {
   "cell_type": "code",
   "execution_count": 17,
   "metadata": {},
   "outputs": [
    {
     "data": {
      "text/plain": [
       "0.33975176721734723"
      ]
     },
     "execution_count": 17,
     "metadata": {},
     "output_type": "execute_result"
    }
   ],
   "source": [
    "model_svr_pl2d = SVR(kernel = 'poly', degree = 2) \n",
    "model_svr_pl2d.fit(X_train, y_train)\n",
    "\n",
    "model_svr_pl2d.score(X_valid, y_valid)\n"
   ]
  },
  {
   "cell_type": "code",
   "execution_count": 23,
   "metadata": {},
   "outputs": [],
   "source": [
    "first_row_X_valid = X_valid.iloc[[0]]\n"
   ]
  },
  {
   "cell_type": "code",
   "execution_count": 24,
   "metadata": {},
   "outputs": [],
   "source": [
    "prediction = model_svr_lr.predict(first_row_X_valid)"
   ]
  },
  {
   "cell_type": "code",
   "execution_count": 25,
   "metadata": {},
   "outputs": [],
   "source": [
    "actual_value = y_valid.iloc[0]"
   ]
  },
  {
   "cell_type": "code",
   "execution_count": 27,
   "metadata": {},
   "outputs": [
    {
     "name": "stdout",
     "output_type": "stream",
     "text": [
      "Predicted Price is 62.60 and the actual price is 45.00\n"
     ]
    }
   ],
   "source": [
    "print(\"Predicted Price is {:.2f} and the actual price is {:.2f}\".format(prediction[0], actual_value))\n"
   ]
  },
  {
   "cell_type": "code",
   "execution_count": 28,
   "metadata": {},
   "outputs": [],
   "source": [
    "y_pred = model_svr_lr.predict(X_valid)"
   ]
  },
  {
   "cell_type": "code",
   "execution_count": 29,
   "metadata": {},
   "outputs": [
    {
     "name": "stdout",
     "output_type": "stream",
     "text": [
      "MSE =  7164.514566933662\n",
      "RMSE =  84.64345554698049\n"
     ]
    }
   ],
   "source": [
    "from sklearn.metrics import mean_squared_error\n",
    "import numpy as np\n",
    "\n",
    "mse = mean_squared_error(y_valid, y_pred)\n",
    "rmse = np.sqrt(mse)\n",
    "\n",
    "print('MSE = ', mse)\n",
    "print('RMSE = ', rmse)"
   ]
  },
  {
   "cell_type": "code",
   "execution_count": null,
   "metadata": {},
   "outputs": [],
   "source": []
  }
 ],
 "metadata": {
  "kernelspec": {
   "display_name": "Python 3",
   "language": "python",
   "name": "python3"
  },
  "language_info": {
   "codemirror_mode": {
    "name": "ipython",
    "version": 3
   },
   "file_extension": ".py",
   "mimetype": "text/x-python",
   "name": "python",
   "nbconvert_exporter": "python",
   "pygments_lexer": "ipython3",
   "version": "3.9.18"
  }
 },
 "nbformat": 4,
 "nbformat_minor": 2
}
