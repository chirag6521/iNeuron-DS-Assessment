{
 "cells": [
  {
   "cell_type": "code",
   "execution_count": 1,
   "metadata": {},
   "outputs": [
    {
     "name": "stdout",
     "output_type": "stream",
     "text": [
      "{'yz': ['abc', 'abc', 'def', 'abc', 'def', 'ghi', 'abc', 'def', 'ghi', 'jkl', 'abc', 'def', 'ghi', 'jkl', 'mno', 'abc', 'def', 'ghi', 'jkl', 'mno', 'pqr', 'abc', 'def', 'ghi', 'jkl', 'mno', 'pqr', 'stu', 'abc', 'def', 'ghi', 'jkl', 'mno', 'pqr', 'stu', 'vwx', 'abc', 'def', 'ghi', 'jkl', 'mno', 'pqr', 'stu', 'vwx', 'yz']}\n"
     ]
    }
   ],
   "source": [
    "def construct_output(input_dict, prefix=[]):\n",
    "    output = {}\n",
    "    for key, value in input_dict.items():\n",
    "        if isinstance(value, dict):\n",
    "            sub_output = construct_output(value, prefix + [key])\n",
    "            for k, v in sub_output.items():\n",
    "                output[k] = prefix + [key] + v\n",
    "        else:\n",
    "            output[key] = prefix + [key]\n",
    "    return output\n",
    "\n",
    "input_dict = {\n",
    "    \"abc\": {\n",
    "        \"def\": {\n",
    "            \"ghi\": {\n",
    "                \"jkl\": {\n",
    "                    \"mno\": {\n",
    "                        \"pqr\": {\n",
    "                            \"stu\": {\n",
    "                                \"vwx\": {\n",
    "                                    \"yz\": \"you are finally here !!!\"\n",
    "                                }\n",
    "                            }\n",
    "                        }\n",
    "                    }\n",
    "                }\n",
    "            }\n",
    "        }\n",
    "    }\n",
    "}\n",
    "\n",
    "output = construct_output(input_dict)\n",
    "print(output)\n"
   ]
  },
  {
   "cell_type": "code",
   "execution_count": null,
   "metadata": {},
   "outputs": [],
   "source": []
  },
  {
   "cell_type": "code",
   "execution_count": null,
   "metadata": {},
   "outputs": [],
   "source": []
  }
 ],
 "metadata": {
  "kernelspec": {
   "display_name": "Python 3",
   "language": "python",
   "name": "python3"
  },
  "language_info": {
   "codemirror_mode": {
    "name": "ipython",
    "version": 3
   },
   "file_extension": ".py",
   "mimetype": "text/x-python",
   "name": "python",
   "nbconvert_exporter": "python",
   "pygments_lexer": "ipython3",
   "version": "3.9.0"
  }
 },
 "nbformat": 4,
 "nbformat_minor": 2
}
